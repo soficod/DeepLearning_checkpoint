{
 "cells": [
  {
   "cell_type": "markdown",
   "id": "c23e580f",
   "metadata": {},
   "source": [
    "# We will solve the Happy House problem where we allow a person to enter the house only if he/she is smiling! So, a smile detector!"
   ]
  },
  {
   "cell_type": "code",
   "execution_count": null,
   "id": "17f1bf5a",
   "metadata": {},
   "outputs": [],
   "source": [
    "pip install pydot"
   ]
  },
  {
   "cell_type": "code",
   "execution_count": 9,
   "id": "324143b1",
   "metadata": {},
   "outputs": [],
   "source": [
    "import numpy as np\n",
    "import pandas as pd\n",
    "import matplotlib.pyplot as plt\n",
    "import cv2\n",
    "import tensorflow as tf\n",
    "from PIL import Image\n",
    "import os\n",
    "from tensorflow import keras \n",
    "from tensorflow.keras.models import Sequential\n",
    "from tensorflow.keras.layers import Activation,Dense,Flatten, BatchNormalization, Conv2D, MaxPool2D,Dropout\n",
    "from tensorflow.keras.optimizers import Adam \n",
    "from tensorflow.keras.metrics import categorical_crossentropy\n",
    "from tensorflow.keras.preprocessing.image import ImageDataGenerator\n",
    "from sklearn.metrics import confusion_matrix\n",
    "from sklearn.model_selection import train_test_split\n",
    "from tensorflow.keras.utils import to_categorical\n",
    "import tkinter as tk\n",
    "from tkinter import filedialog\n",
    "from tkinter import *\n",
    "from PIL import ImageTk, Image\n",
    "import scipy\n",
    "import random\n",
    "import seaborn as sns\n",
    "import h5py"
   ]
  },
  {
   "cell_type": "markdown",
   "id": "ba24e234",
   "metadata": {},
   "source": [
    "# load the dataset "
   ]
  },
  {
   "cell_type": "code",
   "execution_count": 2,
   "id": "adcd96a3",
   "metadata": {},
   "outputs": [],
   "source": [
    "def load_dataset(path_to_train, path_to_test):\n",
    "    train_dataset = h5py.File(path_to_train)\n",
    "    train_x = np.array(train_dataset['train_set_x'][:])\n",
    "    train_y = np.array(train_dataset['train_set_y'][:])\n",
    "\n",
    "    test_dataset = h5py.File(path_to_test)\n",
    "    test_x = np.array(test_dataset['test_set_x'][:])\n",
    "    test_y = np.array(test_dataset['test_set_y'][:])\n",
    "\n",
    "    # y reshaped \n",
    "    train_y = train_y.reshape((1, train_x.shape[0]))\n",
    "    test_y = test_y.reshape((1, test_y.shape[0]))\n",
    "\n",
    "    return train_x, train_y, test_x, test_y"
   ]
  },
  {
   "cell_type": "code",
   "execution_count": 3,
   "id": "076e636a",
   "metadata": {},
   "outputs": [
    {
     "name": "stderr",
     "output_type": "stream",
     "text": [
      "c:\\users\\dell 5400\\appdata\\local\\programs\\python\\python37\\lib\\site-packages\\ipykernel_launcher.py:2: H5pyDeprecationWarning: The default file mode will change to 'r' (read-only) in h5py 3.0. To suppress this warning, pass the mode you need to h5py.File(), or set the global default h5.get_config().default_file_mode, or set the environment variable H5PY_DEFAULT_READONLY=1. Available modes are: 'r', 'r+', 'w', 'w-'/'x', 'a'. See the docs for details.\n",
      "  \n",
      "c:\\users\\dell 5400\\appdata\\local\\programs\\python\\python37\\lib\\site-packages\\ipykernel_launcher.py:6: H5pyDeprecationWarning: The default file mode will change to 'r' (read-only) in h5py 3.0. To suppress this warning, pass the mode you need to h5py.File(), or set the global default h5.get_config().default_file_mode, or set the environment variable H5PY_DEFAULT_READONLY=1. Available modes are: 'r', 'r+', 'w', 'w-'/'x', 'a'. See the docs for details.\n",
      "  \n"
     ]
    }
   ],
   "source": [
    "X_train, Y_train, X_test, Y_test = load_dataset(\"train_happy.h5\",\"test_happy.h5\")\n",
    "\n",
    "# Normalize image vectors\n",
    "X_train = X_train/255.\n",
    "X_test = X_test/255"
   ]
  },
  {
   "cell_type": "markdown",
   "id": "508aa594",
   "metadata": {},
   "source": [
    "### reshape data "
   ]
  },
  {
   "cell_type": "code",
   "execution_count": 4,
   "id": "ffd435c5",
   "metadata": {},
   "outputs": [
    {
     "name": "stdout",
     "output_type": "stream",
     "text": [
      "(600, 64, 64, 3)\n",
      "(1, 600)\n",
      "(150, 64, 64, 3)\n",
      "(1, 150)\n"
     ]
    }
   ],
   "source": [
    "print(X_train.shape)\n",
    "print(Y_train.shape)\n",
    "print(X_test.shape)\n",
    "print(Y_test.shape)"
   ]
  },
  {
   "cell_type": "code",
   "execution_count": 5,
   "id": "7946371a",
   "metadata": {},
   "outputs": [
    {
     "name": "stdout",
     "output_type": "stream",
     "text": [
      "(600, 1)\n",
      "(150, 1)\n"
     ]
    }
   ],
   "source": [
    "Y_train = Y_train.reshape(600, 1)\n",
    "Y_test = Y_test.reshape(150,1)\n",
    "print(Y_train.shape)\n",
    "print(Y_test.shape)"
   ]
  },
  {
   "cell_type": "code",
   "execution_count": 6,
   "id": "af5c8b6f",
   "metadata": {},
   "outputs": [
    {
     "name": "stdout",
     "output_type": "stream",
     "text": [
      "Shape of training dataset: (600, 64, 64, 3)\n",
      "\n"
     ]
    },
    {
     "data": {
      "image/png": "[encoded data removed]",
      "text/plain": [
       "<Figure size 432x288 with 1 Axes>"
      ]
     },
     "metadata": {
      "needs_background": "light"
     },
     "output_type": "display_data"
    }
   ],
   "source": [
    "# Random image from the dataset \n",
    "plt.imshow(X_train[random.randint(0, len(X_train) - 1)])\n",
    "plt.axis(\"off\")\n",
    "print(f\"Shape of training dataset: {X_train.shape}\\n\")"
   ]
  },
  {
   "cell_type": "markdown",
   "id": "cfdbe1d7",
   "metadata": {},
   "source": [
    "###  Build model "
   ]
  },
  {
   "cell_type": "code",
   "execution_count": 32,
   "id": "cdecea5e",
   "metadata": {},
   "outputs": [
    {
     "name": "stdout",
     "output_type": "stream",
     "text": [
      "Model: \"sequential_4\"\n",
      "_________________________________________________________________\n",
      "Layer (type)                 Output Shape              Param #   \n",
      "=================================================================\n",
      "conv2d_7 (Conv2D)            (None, 64, 32, 30)        840       \n",
      "_________________________________________________________________\n",
      "max_pooling2d_6 (MaxPooling2 (None, 32, 16, 30)        0         \n",
      "_________________________________________________________________\n",
      "conv2d_8 (Conv2D)            (None, 32, 8, 30)         8130      \n",
      "_________________________________________________________________\n",
      "max_pooling2d_7 (MaxPooling2 (None, 16, 4, 30)         0         \n",
      "_________________________________________________________________\n",
      "flatten_3 (Flatten)          (None, 1920)              0         \n",
      "_________________________________________________________________\n",
      "dense_9 (Dense)              (None, 64)                122944    \n",
      "_________________________________________________________________\n",
      "dropout_6 (Dropout)          (None, 64)                0         \n",
      "_________________________________________________________________\n",
      "dense_10 (Dense)             (None, 64)                4160      \n",
      "_________________________________________________________________\n",
      "dropout_7 (Dropout)          (None, 64)                0         \n",
      "_________________________________________________________________\n",
      "dense_11 (Dense)             (None, 1)                 65        \n",
      "=================================================================\n",
      "Total params: 136,139\n",
      "Trainable params: 136,139\n",
      "Non-trainable params: 0\n",
      "_________________________________________________________________\n"
     ]
    }
   ],
   "source": [
    "model = Sequential()\n",
    "model.add(Conv2D(filters=30, kernel_size = (3, 3), padding = \"same\", strides=(1,2), input_shape=(64, 64, 3),activation='relu'))\n",
    "model.add(MaxPool2D(pool_size=(2, 2)))\n",
    "model.add(Conv2D(filters=30, kernel_size = (3, 3), padding = \"same\", strides=(1,2),activation='relu'))\n",
    "model.add(MaxPool2D(pool_size=(2, 2)))\n",
    "model.add(Flatten())\n",
    "model.add(Dense(units = 64, activation='relu'))\n",
    "model.add(Dropout(0.2))\n",
    "model.add(Dense(units = 64, activation='relu'))\n",
    "model.add(Dropout(0.2))\n",
    "model.add(Dense(units = 1, activation='sigmoid'))\n",
    "\n",
    "model.summary()"
   ]
  },
  {
   "cell_type": "code",
   "execution_count": 33,
   "id": "18959f28",
   "metadata": {},
   "outputs": [],
   "source": [
    "model.compile(optimizer=Adam(), loss='binary_crossentropy', metrics=[\"accuracy\"])"
   ]
  },
  {
   "cell_type": "code",
   "execution_count": 34,
   "id": "fa040559",
   "metadata": {},
   "outputs": [
    {
     "name": "stdout",
     "output_type": "stream",
     "text": [
      "Epoch 1/40\n",
      "48/48 [==============================] - 1s 13ms/step - loss: 0.6998 - accuracy: 0.4875 - val_loss: 0.6956 - val_accuracy: 0.4500\n",
      "Epoch 2/40\n",
      "48/48 [==============================] - 1s 12ms/step - loss: 0.6916 - accuracy: 0.5208 - val_loss: 0.6839 - val_accuracy: 0.8500\n",
      "Epoch 3/40\n",
      "48/48 [==============================] - 1s 12ms/step - loss: 0.6545 - accuracy: 0.6458 - val_loss: 0.6825 - val_accuracy: 0.4500\n",
      "Epoch 4/40\n",
      "48/48 [==============================] - 1s 12ms/step - loss: 0.5490 - accuracy: 0.7396 - val_loss: 0.4734 - val_accuracy: 0.7417\n",
      "Epoch 5/40\n",
      "48/48 [==============================] - 1s 12ms/step - loss: 0.3519 - accuracy: 0.8313 - val_loss: 0.2547 - val_accuracy: 0.8917\n",
      "Epoch 6/40\n",
      "48/48 [==============================] - 1s 12ms/step - loss: 0.2728 - accuracy: 0.8813 - val_loss: 0.1986 - val_accuracy: 0.9167\n",
      "Epoch 7/40\n",
      "48/48 [==============================] - 1s 12ms/step - loss: 0.2128 - accuracy: 0.9167 - val_loss: 0.1638 - val_accuracy: 0.9500\n",
      "Epoch 8/40\n",
      "48/48 [==============================] - 1s 12ms/step - loss: 0.1710 - accuracy: 0.9333 - val_loss: 0.1361 - val_accuracy: 0.9583\n",
      "Epoch 9/40\n",
      "48/48 [==============================] - 1s 13ms/step - loss: 0.1495 - accuracy: 0.9500 - val_loss: 0.1043 - val_accuracy: 0.9583\n",
      "Epoch 10/40\n",
      "48/48 [==============================] - 1s 12ms/step - loss: 0.1677 - accuracy: 0.9354 - val_loss: 0.1060 - val_accuracy: 0.9583\n",
      "Epoch 11/40\n",
      "48/48 [==============================] - 1s 12ms/step - loss: 0.1339 - accuracy: 0.9667 - val_loss: 0.0773 - val_accuracy: 0.9667\n",
      "Epoch 12/40\n",
      "48/48 [==============================] - 1s 12ms/step - loss: 0.0921 - accuracy: 0.9688 - val_loss: 0.1090 - val_accuracy: 0.9500\n",
      "Epoch 13/40\n",
      "48/48 [==============================] - 1s 14ms/step - loss: 0.1045 - accuracy: 0.9625 - val_loss: 0.1109 - val_accuracy: 0.9500\n",
      "Epoch 14/40\n",
      "48/48 [==============================] - 1s 12ms/step - loss: 0.0805 - accuracy: 0.9729 - val_loss: 0.0916 - val_accuracy: 0.9500\n",
      "Epoch 15/40\n",
      "48/48 [==============================] - 1s 13ms/step - loss: 0.0686 - accuracy: 0.9729 - val_loss: 0.1228 - val_accuracy: 0.9417\n",
      "Epoch 16/40\n",
      "48/48 [==============================] - 1s 12ms/step - loss: 0.0856 - accuracy: 0.9667 - val_loss: 0.1501 - val_accuracy: 0.9250\n",
      "Epoch 17/40\n",
      "48/48 [==============================] - 1s 12ms/step - loss: 0.0809 - accuracy: 0.9708 - val_loss: 0.0977 - val_accuracy: 0.9667\n",
      "Epoch 18/40\n",
      "48/48 [==============================] - 1s 12ms/step - loss: 0.0613 - accuracy: 0.9854 - val_loss: 0.1144 - val_accuracy: 0.9583\n",
      "Epoch 19/40\n",
      "48/48 [==============================] - 1s 13ms/step - loss: 0.0817 - accuracy: 0.9708 - val_loss: 0.0886 - val_accuracy: 0.9583\n",
      "Epoch 20/40\n",
      "48/48 [==============================] - 1s 12ms/step - loss: 0.0511 - accuracy: 0.9875 - val_loss: 0.0768 - val_accuracy: 0.9750\n",
      "Epoch 21/40\n",
      "48/48 [==============================] - 1s 13ms/step - loss: 0.0487 - accuracy: 0.9812 - val_loss: 0.0398 - val_accuracy: 0.9750\n",
      "Epoch 22/40\n",
      "48/48 [==============================] - 1s 13ms/step - loss: 0.0705 - accuracy: 0.9812 - val_loss: 0.0729 - val_accuracy: 0.9667\n",
      "Epoch 23/40\n",
      "48/48 [==============================] - 1s 13ms/step - loss: 0.0502 - accuracy: 0.9854 - val_loss: 0.0623 - val_accuracy: 0.9667\n",
      "Epoch 24/40\n",
      "48/48 [==============================] - 1s 14ms/step - loss: 0.0422 - accuracy: 0.9896 - val_loss: 0.0884 - val_accuracy: 0.9583\n",
      "Epoch 25/40\n",
      "48/48 [==============================] - 1s 13ms/step - loss: 0.0482 - accuracy: 0.9833 - val_loss: 0.0777 - val_accuracy: 0.9583\n",
      "Epoch 26/40\n",
      "48/48 [==============================] - 1s 13ms/step - loss: 0.0393 - accuracy: 0.9875 - val_loss: 0.0582 - val_accuracy: 0.9750\n",
      "Epoch 27/40\n",
      "48/48 [==============================] - 1s 14ms/step - loss: 0.0364 - accuracy: 0.9854 - val_loss: 0.0517 - val_accuracy: 0.9833\n",
      "Epoch 28/40\n",
      "48/48 [==============================] - 1s 12ms/step - loss: 0.0351 - accuracy: 0.9812 - val_loss: 0.0501 - val_accuracy: 0.9917\n",
      "Epoch 29/40\n",
      "48/48 [==============================] - 1s 13ms/step - loss: 0.0616 - accuracy: 0.9792 - val_loss: 0.0657 - val_accuracy: 0.9750\n",
      "Epoch 30/40\n",
      "48/48 [==============================] - 1s 13ms/step - loss: 0.0424 - accuracy: 0.9854 - val_loss: 0.0849 - val_accuracy: 0.9667\n",
      "Epoch 31/40\n",
      "48/48 [==============================] - 1s 13ms/step - loss: 0.0369 - accuracy: 0.9896 - val_loss: 0.1398 - val_accuracy: 0.9583\n",
      "Epoch 32/40\n",
      "48/48 [==============================] - 1s 12ms/step - loss: 0.0355 - accuracy: 0.9875 - val_loss: 0.0627 - val_accuracy: 0.9750\n",
      "Epoch 33/40\n",
      "48/48 [==============================] - 1s 13ms/step - loss: 0.0387 - accuracy: 0.9854 - val_loss: 0.0503 - val_accuracy: 0.9750\n",
      "Epoch 34/40\n",
      "48/48 [==============================] - 1s 14ms/step - loss: 0.0418 - accuracy: 0.9875 - val_loss: 0.0642 - val_accuracy: 0.9583\n",
      "Epoch 35/40\n",
      "48/48 [==============================] - 1s 12ms/step - loss: 0.0323 - accuracy: 0.9875 - val_loss: 0.0972 - val_accuracy: 0.9500\n",
      "Epoch 36/40\n",
      "48/48 [==============================] - 1s 12ms/step - loss: 0.0283 - accuracy: 0.9875 - val_loss: 0.0746 - val_accuracy: 0.9833\n",
      "Epoch 37/40\n",
      "48/48 [==============================] - 1s 14ms/step - loss: 0.0612 - accuracy: 0.9854 - val_loss: 0.1107 - val_accuracy: 0.9750\n",
      "Epoch 38/40\n",
      "48/48 [==============================] - 1s 14ms/step - loss: 0.0412 - accuracy: 0.9854 - val_loss: 0.0273 - val_accuracy: 0.9917\n",
      "Epoch 39/40\n",
      "48/48 [==============================] - 1s 15ms/step - loss: 0.0233 - accuracy: 0.9875 - val_loss: 0.0650 - val_accuracy: 0.9750\n",
      "Epoch 40/40\n",
      "48/48 [==============================] - 1s 12ms/step - loss: 0.0302 - accuracy: 0.9854 - val_loss: 0.0416 - val_accuracy: 0.9833\n"
     ]
    }
   ],
   "source": [
    "history = model.fit(X_train,\n",
    "                    Y_train,\n",
    "                    batch_size=10,\n",
    "                    epochs=40,\n",
    "                    verbose=1,\n",
    "                    validation_split=0.2)"
   ]
  },
  {
   "cell_type": "code",
   "execution_count": 35,
   "id": "2574c178",
   "metadata": {},
   "outputs": [
    {
     "data": {
      "text/plain": [
       "<function matplotlib.pyplot.show(close=None, block=None)>"
      ]
     },
     "execution_count": 35,
     "metadata": {},
     "output_type": "execute_result"
    },
    {
     "data": {
      "image/png": "[encoded data removed]",
      "text/plain": [
       "<Figure size 432x288 with 1 Axes>"
      ]
     },
     "metadata": {
      "needs_background": "light"
     },
     "output_type": "display_data"
    }
   ],
   "source": [
    "plt.figure(0)\n",
    "plt.plot(history.history['accuracy'],label='training accuracy')\n",
    "plt.plot(history.history['val_accuracy'],label='val accuracy')\n",
    "plt.title('accuracy')\n",
    "plt.xlabel('epochs')\n",
    "plt.ylabel('accuracy')\n",
    "plt.legend()\n",
    "plt.show"
   ]
  },
  {
   "cell_type": "code",
   "execution_count": 36,
   "id": "310f05c3",
   "metadata": {},
   "outputs": [
    {
     "data": {
      "image/png": "[encoded data removed]",
      "text/plain": [
       "<Figure size 432x288 with 1 Axes>"
      ]
     },
     "metadata": {
      "needs_background": "light"
     },
     "output_type": "display_data"
    }
   ],
   "source": [
    "plt.plot(history.history['loss'],label='training loss')\n",
    "plt.plot(history.history['val_loss'],label='val loss')\n",
    "plt.title('loss')\n",
    "plt.xlabel('epcohs')\n",
    "plt.ylabel('loss')\n",
    "plt.legend()\n",
    "plt.show()"
   ]
  }
 ],
 "metadata": {
  "kernelspec": {
   "display_name": "Python 3 (ipykernel)",
   "language": "python",
   "name": "python3"
  },
  "language_info": {
   "codemirror_mode": {
    "name": "ipython",
    "version": 3
   },
   "file_extension": ".py",
   "mimetype": "text/x-python",
   "name": "python",
   "nbconvert_exporter": "python",
   "pygments_lexer": "ipython3",
   "version": "3.7.9"
  }
 },
 "nbformat": 4,
 "nbformat_minor": 5
}
